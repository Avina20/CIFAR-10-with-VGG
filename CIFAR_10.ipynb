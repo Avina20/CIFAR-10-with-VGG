{
  "nbformat": 4,
  "nbformat_minor": 0,
  "metadata": {
    "colab": {
      "name": "CIFAR 10.ipynb",
      "provenance": [],
      "collapsed_sections": [],
      "authorship_tag": "ABX9TyNa6+lqG07TypwINT39ZHa6",
      "include_colab_link": true
    },
    "kernelspec": {
      "name": "python3",
      "display_name": "Python 3"
    },
    "accelerator": "GPU"
  },
  "cells": [
    {
      "cell_type": "markdown",
      "metadata": {
        "id": "view-in-github",
        "colab_type": "text"
      },
      "source": [
        "<a href=\"https://colab.research.google.com/github/Avina20/CIFAR-10-with-VGG/blob/master/CIFAR_10.ipynb\" target=\"_parent\"><img src=\"https://colab.research.google.com/assets/colab-badge.svg\" alt=\"Open In Colab\"/></a>"
      ]
    },
    {
      "cell_type": "code",
      "metadata": {
        "id": "0LDLBW66uS2W",
        "colab_type": "code",
        "outputId": "fdb2bc3c-a6ab-47f8-b4a3-43d0222d5e48",
        "colab": {
          "base_uri": "https://localhost:8080/",
          "height": 34
        }
      },
      "source": [
        "%tensorflow_version 2.x\n",
        "import tensorflow as tf\n",
        "device_name = tf.test.gpu_device_name()\n",
        "if device_name != '/device:GPU:0':\n",
        "  raise SystemError('GPU device not found')\n",
        "print('Found GPU at: {}'.format(device_name))\n",
        "\n"
      ],
      "execution_count": 1,
      "outputs": [
        {
          "output_type": "stream",
          "text": [
            "Found GPU at: /device:GPU:0\n"
          ],
          "name": "stdout"
        }
      ]
    },
    {
      "cell_type": "code",
      "metadata": {
        "id": "VQK82iqgaq_e",
        "colab_type": "code",
        "colab": {
          "base_uri": "https://localhost:8080/",
          "height": 34
        },
        "outputId": "1a8857f7-3b38-4014-cf43-a52dcc38c4bb"
      },
      "source": [
        "print(tf.__version__)"
      ],
      "execution_count": 2,
      "outputs": [
        {
          "output_type": "stream",
          "text": [
            "2.2.0-rc2\n"
          ],
          "name": "stdout"
        }
      ]
    },
    {
      "cell_type": "code",
      "metadata": {
        "id": "aIJnX2MwuyD3",
        "colab_type": "code",
        "colab": {}
      },
      "source": [
        "import numpy as np\n",
        "import matplotlib.pyplot as plt\n",
        "from tensorflow.keras.layers import Input, Dense, Conv2D, Flatten, Dropout, MaxPooling2D, GlobalMaxPooling2D, BatchNormalization\n",
        "from tensorflow.keras.models import Model"
      ],
      "execution_count": 0,
      "outputs": []
    },
    {
      "cell_type": "code",
      "metadata": {
        "colab_type": "code",
        "outputId": "d8806e1d-e1d0-4358-abc1-9bc0d7483115",
        "id": "855M2e7XvYOl",
        "colab": {
          "base_uri": "https://localhost:8080/",
          "height": 68
        }
      },
      "source": [
        "cifar10 = tf.keras.datasets.cifar10\n",
        "(x_train,y_train),(x_test,y_test) = cifar10.load_data()\n",
        "x_train,x_test = x_train/255.0, x_test/255.0\n",
        "print('Shape of x_train', x_train.shape)"
      ],
      "execution_count": 4,
      "outputs": [
        {
          "output_type": "stream",
          "text": [
            "Downloading data from https://www.cs.toronto.edu/~kriz/cifar-10-python.tar.gz\n",
            "170500096/170498071 [==============================] - 4s 0us/step\n",
            "Shape of x_train (50000, 32, 32, 3)\n"
          ],
          "name": "stdout"
        }
      ]
    },
    {
      "cell_type": "code",
      "metadata": {
        "id": "DFe4nnQtvZ5U",
        "colab_type": "code",
        "outputId": "ef974f9b-75ed-4e01-b958-9f9771ea016b",
        "colab": {
          "base_uri": "https://localhost:8080/",
          "height": 51
        }
      },
      "source": [
        "print('Shape of y_train',y_train.shape)\n",
        "y_train, y_test = y_train.flatten(), y_test.flatten()\n",
        "K = len(set(y_train))\n",
        "print('Number of classes', K)"
      ],
      "execution_count": 5,
      "outputs": [
        {
          "output_type": "stream",
          "text": [
            "Shape of y_train (50000, 1)\n",
            "Number of classes 10\n"
          ],
          "name": "stdout"
        }
      ]
    },
    {
      "cell_type": "code",
      "metadata": {
        "id": "IGfl-Fi2wF7b",
        "colab_type": "code",
        "colab": {}
      },
      "source": [
        "i = Input(shape=x_train[0].shape)\n",
        "x = Conv2D(32, (3,3), activation='relu', padding='same')(i)\n",
        "x = BatchNormalization()(x)\n",
        "x = Conv2D(32, (3,3), activation='relu', padding='same')(x)\n",
        "x = BatchNormalization()(x)\n",
        "x = MaxPooling2D((2,2))(x)\n",
        "x = Conv2D(64, (3,3), activation='relu', padding='same')(x)\n",
        "x = BatchNormalization()(x)\n",
        "x = Conv2D(64, (3,3), activation='relu', padding='same')(x)\n",
        "x = BatchNormalization()(x)\n",
        "x = MaxPooling2D((2,2))(x)\n",
        "x = Conv2D(128, (3,3), activation='relu', padding='same')(x)\n",
        "x = BatchNormalization()(x)\n",
        "x = Conv2D(128, (3,3), activation='relu', padding='same')(x)\n",
        "x = BatchNormalization()(x)\n",
        "x = MaxPooling2D((2,2))(x)\n",
        "\n",
        "x = Flatten()(x)\n",
        "x = Dropout(0.2)(x)\n",
        "x = Dense(1024, activation='relu')(x)\n",
        "x = Dropout(0.2)(x)\n",
        "x = Dense(K,activation='softmax')(x)\n",
        "\n",
        "model = Model(i,x)"
      ],
      "execution_count": 0,
      "outputs": []
    },
    {
      "cell_type": "code",
      "metadata": {
        "id": "6JldxXn3xH9D",
        "colab_type": "code",
        "outputId": "134ebb01-fb90-43d2-99fe-c2f01dc885b6",
        "colab": {
          "base_uri": "https://localhost:8080/",
          "height": 1000
        }
      },
      "source": [
        "\n",
        "model.compile(optimizer='adam',\n",
        "              loss='sparse_categorical_crossentropy',\n",
        "              metrics=['accuracy'])\n",
        "r = model.fit(x_train,y_train, validation_data=(x_test,y_test), epochs=30)"
      ],
      "execution_count": 8,
      "outputs": [
        {
          "output_type": "stream",
          "text": [
            "Epoch 1/30\n",
            "1563/1563 [==============================] - 14s 9ms/step - loss: 0.8932 - accuracy: 0.6916 - val_loss: 0.8851 - val_accuracy: 0.6943\n",
            "Epoch 2/30\n",
            "1563/1563 [==============================] - 14s 9ms/step - loss: 0.7021 - accuracy: 0.7576 - val_loss: 0.9163 - val_accuracy: 0.6953\n",
            "Epoch 3/30\n",
            "1563/1563 [==============================] - 14s 9ms/step - loss: 0.5810 - accuracy: 0.7994 - val_loss: 0.7251 - val_accuracy: 0.7609\n",
            "Epoch 4/30\n",
            "1563/1563 [==============================] - 14s 9ms/step - loss: 0.4899 - accuracy: 0.8308 - val_loss: 0.6378 - val_accuracy: 0.7851\n",
            "Epoch 5/30\n",
            "1563/1563 [==============================] - 14s 9ms/step - loss: 0.4092 - accuracy: 0.8591 - val_loss: 0.6640 - val_accuracy: 0.7854\n",
            "Epoch 6/30\n",
            "1563/1563 [==============================] - 14s 9ms/step - loss: 0.3495 - accuracy: 0.8798 - val_loss: 0.5941 - val_accuracy: 0.8165\n",
            "Epoch 7/30\n",
            "1563/1563 [==============================] - 14s 9ms/step - loss: 0.2867 - accuracy: 0.9004 - val_loss: 0.6730 - val_accuracy: 0.8078\n",
            "Epoch 8/30\n",
            "1563/1563 [==============================] - 14s 9ms/step - loss: 0.2503 - accuracy: 0.9133 - val_loss: 0.6700 - val_accuracy: 0.8174\n",
            "Epoch 9/30\n",
            "1563/1563 [==============================] - 13s 9ms/step - loss: 0.2118 - accuracy: 0.9273 - val_loss: 0.7378 - val_accuracy: 0.8110\n",
            "Epoch 10/30\n",
            "1563/1563 [==============================] - 13s 9ms/step - loss: 0.1936 - accuracy: 0.9337 - val_loss: 0.6520 - val_accuracy: 0.8233\n",
            "Epoch 11/30\n",
            "1563/1563 [==============================] - 14s 9ms/step - loss: 0.1719 - accuracy: 0.9409 - val_loss: 0.6836 - val_accuracy: 0.8177\n",
            "Epoch 12/30\n",
            "1563/1563 [==============================] - 13s 9ms/step - loss: 0.1507 - accuracy: 0.9491 - val_loss: 0.6862 - val_accuracy: 0.8223\n",
            "Epoch 13/30\n",
            "1563/1563 [==============================] - 13s 9ms/step - loss: 0.1405 - accuracy: 0.9531 - val_loss: 0.6608 - val_accuracy: 0.8345\n",
            "Epoch 14/30\n",
            "1563/1563 [==============================] - 14s 9ms/step - loss: 0.1327 - accuracy: 0.9557 - val_loss: 0.7154 - val_accuracy: 0.8256\n",
            "Epoch 15/30\n",
            "1563/1563 [==============================] - 14s 9ms/step - loss: 0.1181 - accuracy: 0.9598 - val_loss: 0.8262 - val_accuracy: 0.8247\n",
            "Epoch 16/30\n",
            "1563/1563 [==============================] - 13s 8ms/step - loss: 0.1154 - accuracy: 0.9607 - val_loss: 0.6939 - val_accuracy: 0.8351\n",
            "Epoch 17/30\n",
            "1563/1563 [==============================] - 13s 9ms/step - loss: 0.1063 - accuracy: 0.9640 - val_loss: 0.7224 - val_accuracy: 0.8310\n",
            "Epoch 18/30\n",
            "1563/1563 [==============================] - 13s 9ms/step - loss: 0.0952 - accuracy: 0.9676 - val_loss: 0.8156 - val_accuracy: 0.8282\n",
            "Epoch 19/30\n",
            "1563/1563 [==============================] - 13s 8ms/step - loss: 0.0925 - accuracy: 0.9688 - val_loss: 0.7721 - val_accuracy: 0.8332\n",
            "Epoch 20/30\n",
            "1563/1563 [==============================] - 13s 8ms/step - loss: 0.0914 - accuracy: 0.9701 - val_loss: 0.7494 - val_accuracy: 0.8388\n",
            "Epoch 21/30\n",
            "1563/1563 [==============================] - 13s 9ms/step - loss: 0.0849 - accuracy: 0.9722 - val_loss: 0.7985 - val_accuracy: 0.8361\n",
            "Epoch 22/30\n",
            "1563/1563 [==============================] - 13s 9ms/step - loss: 0.0822 - accuracy: 0.9724 - val_loss: 0.8837 - val_accuracy: 0.8286\n",
            "Epoch 23/30\n",
            "1563/1563 [==============================] - 13s 9ms/step - loss: 0.0781 - accuracy: 0.9743 - val_loss: 0.7981 - val_accuracy: 0.8320\n",
            "Epoch 24/30\n",
            "1563/1563 [==============================] - 13s 8ms/step - loss: 0.0717 - accuracy: 0.9757 - val_loss: 0.8094 - val_accuracy: 0.8351\n",
            "Epoch 25/30\n",
            "1563/1563 [==============================] - 13s 9ms/step - loss: 0.0731 - accuracy: 0.9765 - val_loss: 0.8148 - val_accuracy: 0.8319\n",
            "Epoch 26/30\n",
            "1563/1563 [==============================] - 13s 9ms/step - loss: 0.0693 - accuracy: 0.9770 - val_loss: 0.8469 - val_accuracy: 0.8235\n",
            "Epoch 27/30\n",
            "1563/1563 [==============================] - 13s 8ms/step - loss: 0.0645 - accuracy: 0.9790 - val_loss: 0.9191 - val_accuracy: 0.8344\n",
            "Epoch 28/30\n",
            "1563/1563 [==============================] - 13s 8ms/step - loss: 0.0681 - accuracy: 0.9781 - val_loss: 0.8745 - val_accuracy: 0.8321\n",
            "Epoch 29/30\n",
            "1563/1563 [==============================] - 13s 9ms/step - loss: 0.0643 - accuracy: 0.9792 - val_loss: 0.8654 - val_accuracy: 0.8283\n",
            "Epoch 30/30\n",
            "1563/1563 [==============================] - 13s 8ms/step - loss: 0.0629 - accuracy: 0.9793 - val_loss: 0.7326 - val_accuracy: 0.8295\n"
          ],
          "name": "stdout"
        }
      ]
    },
    {
      "cell_type": "code",
      "metadata": {
        "id": "Ma3LBIWQeU7G",
        "colab_type": "code",
        "colab": {
          "base_uri": "https://localhost:8080/",
          "height": 357
        },
        "outputId": "5755077f-07de-4e0a-83c2-d5165cc70818"
      },
      "source": [
        "batch_size = 32\n",
        "data_generator = tf.keras.preprocessing.image.ImageDataGenerator(width_shift_range=0.1, height_shift_range=0.1, horizontal_flip=True)\n",
        "train_generator = data_generator.flow(x_train, y_train, batch_size)\n",
        "steps_per_epoch = x_train.shape[0]\n",
        "r = model.fit_generator(train_generator, validation_data=(x_test,y_test), steps_per_epoch=500, epochs=10)"
      ],
      "execution_count": 17,
      "outputs": [
        {
          "output_type": "stream",
          "text": [
            "Epoch 1/10\n",
            "500/500 [==============================] - 10s 20ms/step - loss: 0.3684 - accuracy: 0.8772 - val_loss: 0.4421 - val_accuracy: 0.8538\n",
            "Epoch 2/10\n",
            "500/500 [==============================] - 9s 18ms/step - loss: 0.3495 - accuracy: 0.8822 - val_loss: 0.4217 - val_accuracy: 0.8616\n",
            "Epoch 3/10\n",
            "500/500 [==============================] - 10s 19ms/step - loss: 0.3345 - accuracy: 0.8865 - val_loss: 0.4197 - val_accuracy: 0.8604\n",
            "Epoch 4/10\n",
            "500/500 [==============================] - 9s 19ms/step - loss: 0.3210 - accuracy: 0.8901 - val_loss: 0.4157 - val_accuracy: 0.8670\n",
            "Epoch 5/10\n",
            "500/500 [==============================] - 9s 19ms/step - loss: 0.3379 - accuracy: 0.8844 - val_loss: 0.4427 - val_accuracy: 0.8580\n",
            "Epoch 6/10\n",
            "500/500 [==============================] - 9s 19ms/step - loss: 0.3215 - accuracy: 0.8897 - val_loss: 0.4224 - val_accuracy: 0.8629\n",
            "Epoch 7/10\n",
            "500/500 [==============================] - 10s 19ms/step - loss: 0.3185 - accuracy: 0.8889 - val_loss: 0.4892 - val_accuracy: 0.8521\n",
            "Epoch 8/10\n",
            "500/500 [==============================] - 10s 20ms/step - loss: 0.3180 - accuracy: 0.8923 - val_loss: 0.4379 - val_accuracy: 0.8609\n",
            "Epoch 9/10\n",
            "500/500 [==============================] - 10s 19ms/step - loss: 0.3324 - accuracy: 0.8866 - val_loss: 0.4133 - val_accuracy: 0.8666\n",
            "Epoch 10/10\n",
            "500/500 [==============================] - 9s 19ms/step - loss: 0.3077 - accuracy: 0.8949 - val_loss: 0.4391 - val_accuracy: 0.8661\n"
          ],
          "name": "stdout"
        }
      ]
    },
    {
      "cell_type": "code",
      "metadata": {
        "id": "NHgPoYrF1LU9",
        "colab_type": "code",
        "colab": {
          "base_uri": "https://localhost:8080/",
          "height": 282
        },
        "outputId": "81db6e88-a536-4cde-eab3-e286c36983fb"
      },
      "source": [
        "plt.plot(r.history['loss'],label='loss')\n",
        "plt.plot(r.history['val_loss'],label='val_loss')\n",
        "plt.legend()"
      ],
      "execution_count": 18,
      "outputs": [
        {
          "output_type": "execute_result",
          "data": {
            "text/plain": [
              "<matplotlib.legend.Legend at 0x7f08460eda90>"
            ]
          },
          "metadata": {
            "tags": []
          },
          "execution_count": 18
        },
        {
          "output_type": "display_data",
          "data": {
            "image/png": "[encoded data removed]",
            "text/plain": [
              "<Figure size 432x288 with 1 Axes>"
            ]
          },
          "metadata": {
            "tags": [],
            "needs_background": "light"
          }
        }
      ]
    },
    {
      "cell_type": "code",
      "metadata": {
        "id": "Esn-ufI41PQn",
        "colab_type": "code",
        "colab": {
          "base_uri": "https://localhost:8080/",
          "height": 282
        },
        "outputId": "084695d4-eff7-4526-8fab-c13e4cd2eee2"
      },
      "source": [
        "plt.plot(r.history['accuracy'],label='accuracy')\n",
        "plt.plot(r.history['val_accuracy'],label='val_accuracy')\n",
        "plt.legend()"
      ],
      "execution_count": 19,
      "outputs": [
        {
          "output_type": "execute_result",
          "data": {
            "text/plain": [
              "<matplotlib.legend.Legend at 0x7f0891d95da0>"
            ]
          },
          "metadata": {
            "tags": []
          },
          "execution_count": 19
        },
        {
          "output_type": "display_data",
          "data": {
            "image/png": "[encoded data removed]",
            "text/plain": [
              "<Figure size 432x288 with 1 Axes>"
            ]
          },
          "metadata": {
            "tags": [],
            "needs_background": "light"
          }
        }
      ]
    },
    {
      "cell_type": "code",
      "metadata": {
        "id": "8fRGRMDP1hL5",
        "colab_type": "code",
        "colab": {
          "base_uri": "https://localhost:8080/",
          "height": 498
        },
        "outputId": "b0573786-08cc-4610-b3a2-4fc2463d3f34"
      },
      "source": [
        "from sklearn.metrics import confusion_matrix\n",
        "import numpy as np\n",
        "import itertools\n",
        "\n",
        "def plot_confusion_matrix(cm, classes, normalize=False, title='Confusion Matrix', cmap=plt.cm.Blues):\n",
        "  if normalize:\n",
        "    cm=cm.astype('float')/cm.sum(axis=1)[:,np.newaxis]\n",
        "    print('Normalized confusion matrix')\n",
        "  else:\n",
        "    print('Confusion matrix, without normalization')\n",
        "\n",
        "  print(cm)\n",
        "\n",
        "  plt.imshow(cm,interpolation='nearest',cmap=cmap)\n",
        "  plt.title(title)\n",
        "  plt.colorbar()\n",
        "  tick_marks=np.arange(len(classes))    \n",
        "  plt.xticks(tick_marks,classes,rotation=45)\n",
        "  plt.yticks(tick_marks,classes)\n",
        "\n",
        "  fmt='.2f' if normalize  else 'd'\n",
        "  thresh=cm.max()/2\n",
        "  for i,j in itertools.product(range(cm.shape[0]), range(cm.shape[1])):\n",
        "    plt.text(j,i,format(cm[i,j], fmt),\n",
        "             horizontalalignment='center',\n",
        "             color='white' if cm[i, j]>thresh else \"black\")\n",
        "  plt.tight_layout()\n",
        "  plt.ylabel('True label')\n",
        "  plt.xlabel('Predicted label')\n",
        "  plt.show()\n",
        "\n",
        "p_test=model.predict(x_test).argmax(axis=1)\n",
        "cm = confusion_matrix(y_test,p_test)\n",
        "plot_confusion_matrix(cm,list(range(10)))"
      ],
      "execution_count": 20,
      "outputs": [
        {
          "output_type": "stream",
          "text": [
            "Confusion matrix, without normalization\n",
            "[[872  11  27  10   5   5   4  10  22  34]\n",
            " [  2 948   0   0   0   0   0   2   4  44]\n",
            " [ 30   8 744  38  33  53  59  21   3  11]\n",
            " [  9   8  33 712  26 100  52  39   5  16]\n",
            " [  7   2  23  29 842  18  38  38   2   1]\n",
            " [  3   2  10  70  25 830  14  39   1   6]\n",
            " [  3   6  10  18   7   8 941   4   0   3]\n",
            " [  5   0   4   8  15  29   2 936   0   1]\n",
            " [ 39  17   2   5   2   3   3   4 893  32]\n",
            " [  4  37   2   1   0   1   2   5   5 943]]\n"
          ],
          "name": "stdout"
        },
        {
          "output_type": "display_data",
          "data": {
            "image/png": "[encoded data removed]",
            "text/plain": [
              "<Figure size 432x288 with 2 Axes>"
            ]
          },
          "metadata": {
            "tags": [],
            "needs_background": "light"
          }
        }
      ]
    },
    {
      "cell_type": "code",
      "metadata": {
        "id": "yhZa9h3L1pq1",
        "colab_type": "code",
        "colab": {}
      },
      "source": [
        "labels = '''airplane\n",
        "automobile\n",
        "bird\n",
        "cat\n",
        "deer\n",
        "dog\n",
        "frog\n",
        "horse\n",
        "ship\n",
        "truck\n",
        "'''.split()"
      ],
      "execution_count": 0,
      "outputs": []
    },
    {
      "cell_type": "code",
      "metadata": {
        "id": "hy81Ijmm14Ve",
        "colab_type": "code",
        "colab": {
          "base_uri": "https://localhost:8080/",
          "height": 298
        },
        "outputId": "783c8e59-990f-494c-b067-4fc552cfe40a"
      },
      "source": [
        "misclassified_ind = np.where(p_test != y_test)[0]\n",
        "i = np.random.choice(misclassified_ind)\n",
        "plt.imshow(x_test[i],cmap='gray')\n",
        "plt.title('True label: %s Predicted label: %s' %(labels[y_test[i]], labels[p_test[i]]))"
      ],
      "execution_count": 22,
      "outputs": [
        {
          "output_type": "execute_result",
          "data": {
            "text/plain": [
              "Text(0.5, 1.0, 'True label: horse Predicted label: dog')"
            ]
          },
          "metadata": {
            "tags": []
          },
          "execution_count": 22
        },
        {
          "output_type": "display_data",
          "data": {
            "image/png": "[encoded data removed]",
            "text/plain": [
              "<Figure size 432x288 with 1 Axes>"
            ]
          },
          "metadata": {
            "tags": [],
            "needs_background": "light"
          }
        }
      ]
    }
  ]
}